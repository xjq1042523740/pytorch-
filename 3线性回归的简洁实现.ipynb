{
 "cells": [
  {
   "cell_type": "code",
   "execution_count": 1,
   "metadata": {},
   "outputs": [],
   "source": [
    "import numpy as np\n",
    "import torch \n",
    "from torch.utils import data\n",
    "from d2l import torch as d2l\n",
    "\n",
    "true_w=torch.tensor([2,-3.4])\n",
    "true_b=4.2\n",
    "features,labels=d2l.synthetic_data(true_w,true_b,1000)"
   ]
  },
  {
   "cell_type": "code",
   "execution_count": 2,
   "metadata": {},
   "outputs": [],
   "source": [
    "def load_array(data_arrays,batch_size,is_train=True):\n",
    "    dataset=data.TensorDataset(*data_arrays)\n",
    "    #传入数据，通过库里的函数，得到数据集dataset。括号中的一个星号，表示对list解开入参，即把列表元素分别当作参数传入\n",
    "    #得到的数据没有变就是变了一下类型\n",
    "    return data.DataLoader(dataset,batch_size,shuffle=is_train)\n",
    "batch_size=10\n",
    "#print(features[:2],'\\n',labels[:2])\n",
    "data_iter=load_array((features,labels),batch_size)"
   ]
  },
  {
   "cell_type": "code",
   "execution_count": 3,
   "metadata": {},
   "outputs": [
    {
     "data": {
      "text/plain": [
       "[tensor([[-0.0575, -1.4254],\n",
       "         [ 1.2686,  0.0958],\n",
       "         [ 0.9627, -0.0679],\n",
       "         [-1.6790, -1.3730],\n",
       "         [ 0.0374,  0.6390],\n",
       "         [-0.1893,  0.9711],\n",
       "         [ 1.1386, -0.3116],\n",
       "         [-1.1681, -2.6377],\n",
       "         [-1.5388,  0.4784],\n",
       "         [-1.2263, -0.6318]]),\n",
       " tensor([[ 8.9371],\n",
       "         [ 6.3957],\n",
       "         [ 6.3472],\n",
       "         [ 5.5096],\n",
       "         [ 2.1028],\n",
       "         [ 0.5149],\n",
       "         [ 7.5315],\n",
       "         [10.8391],\n",
       "         [-0.4980],\n",
       "         [ 3.8904]])]"
      ]
     },
     "execution_count": 3,
     "metadata": {},
     "output_type": "execute_result"
    }
   ],
   "source": [
    "next(iter(data_iter))"
   ]
  },
  {
   "cell_type": "code",
   "execution_count": 4,
   "metadata": {},
   "outputs": [],
   "source": [
    "from torch import nn\n",
    "net = nn.Sequential(nn.Linear(2,1))  #本结构只有一层 nn.Linear表示创建一层\n",
    "#第一个指定输入特征形状，即2，第二个指定输出特征形状"
   ]
  },
  {
   "cell_type": "code",
   "execution_count": 5,
   "metadata": {},
   "outputs": [
    {
     "data": {
      "text/plain": [
       "tensor([0.])"
      ]
     },
     "execution_count": 5,
     "metadata": {},
     "output_type": "execute_result"
    }
   ],
   "source": [
    "#初始化模型参数\n",
    "net[0].weight.data.normal_(0,0.01)\n",
    "net[0].bias.data.fill_(0)"
   ]
  },
  {
   "cell_type": "code",
   "execution_count": 6,
   "metadata": {},
   "outputs": [],
   "source": [
    "#计算均方误差使用的是MSELoss类，也称为平方L2范数。 默认情况下，它返回所有样本损失的平均值。\n",
    "loss=nn.MSELoss()"
   ]
  },
  {
   "cell_type": "code",
   "execution_count": 20,
   "metadata": {},
   "outputs": [],
   "source": [
    "#定义优化算法\n",
    "trainer=torch.optim.SGD(net.parameters(),lr=0.3)"
   ]
  },
  {
   "cell_type": "code",
   "execution_count": 11,
   "metadata": {},
   "outputs": [
    {
     "name": "stdout",
     "output_type": "stream",
     "text": [
      "epoch=0,\tloss=0.000106\n",
      "epoch=1,\tloss=0.000105\n",
      "epoch=2,\tloss=0.000102\n"
     ]
    }
   ],
   "source": [
    "num_epoches=3\n",
    "for epoch in range(num_epoches):\n",
    "    for X,y in data_iter:\n",
    "        l=loss(net(X),y)\n",
    "        trainer.zero_grad()\n",
    "        l.backward()\n",
    "        trainer.step()\n",
    "    l=loss(net(features),labels)\n",
    "    print(f'epoch={epoch},\\tloss={l:f}')"
   ]
  },
  {
   "cell_type": "code",
   "execution_count": 14,
   "metadata": {},
   "outputs": [
    {
     "name": "stdout",
     "output_type": "stream",
     "text": [
      "w的估计误差： tensor([ 0.0019, -0.0014])\n",
      "b的估计误差： tensor([-0.0022])\n"
     ]
    }
   ],
   "source": [
    "w=net[0].weight.data\n",
    "print('w的估计误差：',true_w-w.reshape(true_w.shape))\n",
    "b=net[0].bias.data\n",
    "print('b的估计误差：',true_b-b)"
   ]
  },
  {
   "cell_type": "code",
   "execution_count": 21,
   "metadata": {},
   "outputs": [
    {
     "data": {
      "text/plain": [
       "<generator object Module.parameters at 0x000001F4D825B0F8>"
      ]
     },
     "execution_count": 21,
     "metadata": {},
     "output_type": "execute_result"
    }
   ],
   "source": [
    "net.parameters()"
   ]
  },
  {
   "cell_type": "code",
   "execution_count": 22,
   "metadata": {},
   "outputs": [
    {
     "data": {
      "text/plain": [
       "2151071804776"
      ]
     },
     "execution_count": 22,
     "metadata": {},
     "output_type": "execute_result"
    }
   ],
   "source": [
    "id(net[0].weight.data)"
   ]
  },
  {
   "cell_type": "code",
   "execution_count": null,
   "metadata": {},
   "outputs": [],
   "source": []
  }
 ],
 "metadata": {
  "kernelspec": {
   "display_name": "Python [conda env:PyTorch]",
   "language": "python",
   "name": "conda-env-PyTorch-py"
  },
  "language_info": {
   "codemirror_mode": {
    "name": "ipython",
    "version": 3
   },
   "file_extension": ".py",
   "mimetype": "text/x-python",
   "name": "python",
   "nbconvert_exporter": "python",
   "pygments_lexer": "ipython3",
   "version": "3.6.7"
  }
 },
 "nbformat": 4,
 "nbformat_minor": 2
}
