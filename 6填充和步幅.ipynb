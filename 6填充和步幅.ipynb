{
 "cells": [
  {
   "cell_type": "code",
   "execution_count": 1,
   "metadata": {},
   "outputs": [
    {
     "data": {
      "text/plain": [
       "tensor([[ 0.1508,  0.2290,  0.1706,  0.2287,  0.0970,  0.2074,  0.4276,  0.4712],\n",
       "        [ 0.1880,  0.1599,  0.4249,  0.1096,  0.4716,  0.7193,  0.3943,  0.2894],\n",
       "        [ 0.2712,  0.4233,  0.2289,  0.4994,  0.3558,  0.4998,  0.3948,  0.2792],\n",
       "        [ 0.3573,  0.2124,  0.3362,  0.1920,  0.1820,  0.5067,  0.3777,  0.2665],\n",
       "        [ 0.1638,  0.3130,  0.3570,  0.2885,  0.7304,  0.2219,  0.0381,  0.2825],\n",
       "        [ 0.2872,  0.5383,  0.5792,  0.2692, -0.0437,  0.1392,  0.6264,  0.2937],\n",
       "        [ 0.3459,  0.2808,  0.2812,  0.2933,  0.4578,  0.3745,  0.2614,  0.0228],\n",
       "        [ 0.2177,  0.2536,  0.1734,  0.2759,  0.3280,  0.3775,  0.3969,  0.1475]],\n",
       "       grad_fn=<ReshapeAliasBackward0>)"
      ]
     },
     "execution_count": 1,
     "metadata": {},
     "output_type": "execute_result"
    }
   ],
   "source": [
    "import torch\n",
    "from torch import nn\n",
    "\n",
    "def comp_conv2d(conv2d,X):\n",
    "    #定义一个可以直接计算二维输入的卷积运算\n",
    "    X=X.reshape((1,1)+X.shape)  #批量大小和通道数为1，1\n",
    "    Y=conv2d(X)         #conv2d是nn框架里的函数\n",
    "    return Y.reshape(Y.shape[2:])\n",
    "\n",
    "conv2d=nn.Conv2d(1,1,kernel_size=3,padding=1)  #实例化一个卷积层对象\n",
    "X=torch.rand(size=(8,8))\n",
    "comp_conv2d(conv2d,X)"
   ]
  },
  {
   "cell_type": "code",
   "execution_count": 2,
   "metadata": {},
   "outputs": [
    {
     "data": {
      "text/plain": [
       "torch.Size([8, 8])"
      ]
     },
     "execution_count": 2,
     "metadata": {},
     "output_type": "execute_result"
    }
   ],
   "source": [
    "conv2d=nn.Conv2d(1,1,kernel_size=(5,3),padding=(2,1))\n",
    "comp_conv2d(conv2d,X).shape"
   ]
  },
  {
   "cell_type": "code",
   "execution_count": 4,
   "metadata": {},
   "outputs": [
    {
     "data": {
      "text/plain": [
       "torch.Size([4, 4])"
      ]
     },
     "execution_count": 4,
     "metadata": {},
     "output_type": "execute_result"
    }
   ],
   "source": [
    "conv2d=nn.Conv2d(1,1,kernel_size=3,padding=1,stride=2)\n",
    "comp_conv2d(conv2d,X).shape"
   ]
  },
  {
   "cell_type": "code",
   "execution_count": 5,
   "metadata": {},
   "outputs": [
    {
     "data": {
      "text/plain": [
       "torch.Size([4, 2])"
      ]
     },
     "execution_count": 5,
     "metadata": {},
     "output_type": "execute_result"
    }
   ],
   "source": [
    "conv2d=nn.Conv2d(1,1,kernel_size=(3,5),padding=(1,1),stride=(2,3))\n",
    "comp_conv2d(conv2d,X).shape"
   ]
  },
  {
   "cell_type": "code",
   "execution_count": 9,
   "metadata": {},
   "outputs": [
    {
     "data": {
      "text/plain": [
       "tensor([[ 9., 12.],\n",
       "        [11., 14.]])"
      ]
     },
     "execution_count": 9,
     "metadata": {},
     "output_type": "execute_result"
    }
   ],
   "source": [
    "X=torch.tensor([[1.,2.],[3.,4.]])\n",
    "Y=torch.tensor([[5.,6.],[7.,8.]])\n",
    "sum(X,Y)"
   ]
  },
  {
   "cell_type": "code",
   "execution_count": null,
   "metadata": {},
   "outputs": [],
   "source": []
  }
 ],
 "metadata": {
  "kernelspec": {
   "display_name": "Python [conda env:PyTorch]",
   "language": "python",
   "name": "conda-env-PyTorch-py"
  },
  "language_info": {
   "codemirror_mode": {
    "name": "ipython",
    "version": 3
   },
   "file_extension": ".py",
   "mimetype": "text/x-python",
   "name": "python",
   "nbconvert_exporter": "python",
   "pygments_lexer": "ipython3",
   "version": "3.6.7"
  }
 },
 "nbformat": 4,
 "nbformat_minor": 2
}
