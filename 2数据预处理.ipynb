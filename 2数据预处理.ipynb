{
 "cells": [
  {
   "cell_type": "code",
   "execution_count": 1,
   "metadata": {},
   "outputs": [],
   "source": [
    "import torch\n",
    "import pandas as pd\n",
    "import os"
   ]
  },
  {
   "cell_type": "code",
   "execution_count": 2,
   "metadata": {},
   "outputs": [],
   "source": [
    "os.makedirs(os.path.join('..','data'),exist_ok=True)\n",
    "data_file=os.path.join('..','data','house_tiny.csv')\n",
    "with open (data_file,'w')as f:\n",
    "    f.write('NumRooms,Alley,Price\\n')\n",
    "    f.write('NA,Pave,127500\\n')\n",
    "    f.write('2,NA,106000\\n')\n",
    "    f.write('4,NA,125770\\n')\n",
    "    f.write('NA,NA,140000\\n')"
   ]
  },
  {
   "cell_type": "code",
   "execution_count": 3,
   "metadata": {},
   "outputs": [
    {
     "name": "stdout",
     "output_type": "stream",
     "text": [
      "   NumRooms Alley   Price\n",
      "0       NaN  Pave  127500\n",
      "1       2.0   NaN  106000\n",
      "2       4.0   NaN  125770\n",
      "3       NaN   NaN  140000\n"
     ]
    }
   ],
   "source": [
    "data=pd.read_csv(data_file)\n",
    "print(data)"
   ]
  },
  {
   "cell_type": "code",
   "execution_count": 4,
   "metadata": {},
   "outputs": [
    {
     "name": "stdout",
     "output_type": "stream",
     "text": [
      "   NumRooms Alley\n",
      "0       3.0  Pave\n",
      "1       2.0   NaN\n",
      "2       4.0   NaN\n",
      "3       3.0   NaN\n"
     ]
    }
   ],
   "source": [
    "inputs,outputs=data.iloc[:,0:2],data.iloc[:,2]  #iloc：读取的csv文件位置索引\n",
    "inputs=inputs.fillna(inputs.mean())      #将inputs中缺少的数值，用同一列的均值替换“NaN”项。\n",
    "print(inputs)"
   ]
  },
  {
   "cell_type": "code",
   "execution_count": 5,
   "metadata": {},
   "outputs": [
    {
     "name": "stdout",
     "output_type": "stream",
     "text": [
      "   NumRooms  Alley_Pave  Alley_nan\n",
      "0       3.0           1          0\n",
      "1       2.0           0          1\n",
      "2       4.0           0          1\n",
      "3       3.0           0          1\n"
     ]
    }
   ],
   "source": [
    "#对于inputs中的类别值或离散值，我们将“NaN”视为一个类别。pandas可以自动将此列转换为两列（多列）“Alley_类别1”和“Alley_类别2”。\n",
    "inputs=pd.get_dummies(inputs,dummy_na=True)  \n",
    "print(inputs)"
   ]
  },
  {
   "cell_type": "code",
   "execution_count": 6,
   "metadata": {},
   "outputs": [
    {
     "data": {
      "text/plain": [
       "(tensor([[3., 1., 0.],\n",
       "         [2., 0., 1.],\n",
       "         [4., 0., 1.],\n",
       "         [3., 0., 1.]], dtype=torch.float64),\n",
       " tensor([127500, 106000, 125770, 140000]))"
      ]
     },
     "execution_count": 6,
     "metadata": {},
     "output_type": "execute_result"
    }
   ],
   "source": [
    "#转化为张量形式\n",
    "X,y=torch.tensor(inputs.values),torch.tensor(outputs.values)\n",
    "X,y"
   ]
  },
  {
   "cell_type": "code",
   "execution_count": 7,
   "metadata": {},
   "outputs": [],
   "source": [
    "os.makedirs(os.path.join('..','data'),exist_ok=True)\n",
    "data_file=os.path.join('..','data','name_age.csv')\n",
    "with open(data_file,'w')as f:\n",
    "    f.write('Name,Age,Weight,High,Power\\n')\n",
    "    f.write('1,18T,150,180,1110\\n')\n",
    "    f.write('2,NA,NA,180,1220\\n')\n",
    "    f.write('3,18,140,NA,2210\\n')\n",
    "    f.write('4,12,100,NA,1235\\n')\n",
    "    f.write('5,NA,NA,180,3245\\n')\n",
    "    f.write('6,25,160,NA,3641\\n')\n",
    "    f.write('7,28,120,NA,2210\\n')"
   ]
  },
  {
   "cell_type": "code",
   "execution_count": 8,
   "metadata": {},
   "outputs": [
    {
     "name": "stdout",
     "output_type": "stream",
     "text": [
      "   Name  Age  Weight   High  Power\n",
      "0     1  18T   150.0  180.0   1110\n",
      "1     2  NaN     NaN  180.0   1220\n",
      "2     3   18   140.0    NaN   2210\n",
      "3     4   12   100.0    NaN   1235\n",
      "4     5  NaN     NaN  180.0   3245\n",
      "5     6   25   160.0    NaN   3641\n",
      "6     7   28   120.0    NaN   2210\n"
     ]
    }
   ],
   "source": [
    "data=pd.read_csv(data_file)\n",
    "print(data)"
   ]
  },
  {
   "cell_type": "code",
   "execution_count": 9,
   "metadata": {},
   "outputs": [
    {
     "name": "stdout",
     "output_type": "stream",
     "text": [
      "7 4 [0, 0, 0, 0]\n",
      "<class 'float'>\n",
      "[0, 2, 2, 4] 4 3\n",
      "[0, 1, 2]\n",
      "   Name  Age  Weight\n",
      "0     1  18T   150.0\n",
      "1     2  NaN     NaN\n",
      "2     3   18   140.0\n",
      "3     4   12   100.0\n",
      "4     5  NaN     NaN\n",
      "5     6   25   160.0\n",
      "6     7   28   120.0\n"
     ]
    }
   ],
   "source": [
    "inputs,outputs=data.iloc[:,0:4],data.iloc[:,4]\n",
    "r,c=inputs.shape\n",
    "count=[0 for _ in range(c)]\n",
    "print(r,c,count)\n",
    "print(type(inputs.iloc[1,1]))\n",
    "for i in range(c):  #列\n",
    "    for j in range(r):  #行\n",
    "        if pd.isna(inputs.iloc[j,i]) :  #判断是否为空\n",
    "            count[i]+=1\n",
    "Max=max(count)\n",
    "index=count.index(Max)\n",
    "print(count,Max,index)\n",
    "cols=[i for i in range(index)]\n",
    "cols.extend([index+1+i for i in range(c-index-1)])\n",
    "print(cols)\n",
    "inputs=data.iloc[:,cols]\n",
    "print(inputs)        "
   ]
  },
  {
   "cell_type": "code",
   "execution_count": 10,
   "metadata": {},
   "outputs": [
    {
     "name": "stdout",
     "output_type": "stream",
     "text": [
      "   Name  Weight  Age_12  Age_18  Age_18T  Age_25  Age_28  Age_nan\n",
      "0     1   150.0       0       0        1       0       0        0\n",
      "1     2     NaN       0       0        0       0       0        1\n",
      "2     3   140.0       0       1        0       0       0        0\n",
      "3     4   100.0       1       0        0       0       0        0\n",
      "4     5     NaN       0       0        0       0       0        1\n",
      "5     6   160.0       0       0        0       1       0        0\n",
      "6     7   120.0       0       0        0       0       1        0\n"
     ]
    }
   ],
   "source": [
    "inputs = pd.get_dummies(inputs, dummy_na=True)\n",
    "print(inputs)"
   ]
  },
  {
   "cell_type": "code",
   "execution_count": 11,
   "metadata": {},
   "outputs": [],
   "source": [
    "X,y=torch.tensor(inputs.values),torch.tensor(outputs.values)"
   ]
  },
  {
   "cell_type": "code",
   "execution_count": 12,
   "metadata": {},
   "outputs": [
    {
     "data": {
      "text/plain": [
       "(tensor([[  1., 150.,   0.,   0.,   1.,   0.,   0.,   0.],\n",
       "         [  2.,  nan,   0.,   0.,   0.,   0.,   0.,   1.],\n",
       "         [  3., 140.,   0.,   1.,   0.,   0.,   0.,   0.],\n",
       "         [  4., 100.,   1.,   0.,   0.,   0.,   0.,   0.],\n",
       "         [  5.,  nan,   0.,   0.,   0.,   0.,   0.,   1.],\n",
       "         [  6., 160.,   0.,   0.,   0.,   1.,   0.,   0.],\n",
       "         [  7., 120.,   0.,   0.,   0.,   0.,   1.,   0.]], dtype=torch.float64),\n",
       " tensor([1110, 1220, 2210, 1235, 3245, 3641, 2210]))"
      ]
     },
     "execution_count": 12,
     "metadata": {},
     "output_type": "execute_result"
    }
   ],
   "source": [
    "X,y\n"
   ]
  },
  {
   "cell_type": "code",
   "execution_count": null,
   "metadata": {},
   "outputs": [],
   "source": []
  }
 ],
 "metadata": {
  "kernelspec": {
   "display_name": "pytorch",
   "language": "python",
   "name": "pytorch"
  },
  "language_info": {
   "codemirror_mode": {
    "name": "ipython",
    "version": 3
   },
   "file_extension": ".py",
   "mimetype": "text/x-python",
   "name": "python",
   "nbconvert_exporter": "python",
   "pygments_lexer": "ipython3",
   "version": "3.8.16"
  }
 },
 "nbformat": 4,
 "nbformat_minor": 2
}
