{
 "cells": [
  {
   "cell_type": "code",
   "execution_count": 1,
   "id": "417c4794",
   "metadata": {},
   "outputs": [
    {
     "data": {
      "text/plain": [
       "tensor([[ 0.7178, -2.0342, -1.3430,  1.7805],\n",
       "        [ 0.1170,  0.5312, -0.3764,  0.9299],\n",
       "        [ 1.2698, -4.2910,  5.4131,  1.5942]])"
      ]
     },
     "execution_count": 1,
     "metadata": {},
     "output_type": "execute_result"
    }
   ],
   "source": [
    "import torch\n",
    "from d2l import torch as d2l\n",
    "\n",
    "X,W_xh=torch.normal(0,1,(3,1)),torch.normal(0,1,(1,4))\n",
    "H,W_hh=torch.normal(0,1,(3,4)),torch.normal(0,1,(4,4))\n",
    "torch.matmul(X,W_xh)+torch.matmul(H,W_hh)"
   ]
  },
  {
   "cell_type": "code",
   "execution_count": 2,
   "id": "3cf958bc",
   "metadata": {},
   "outputs": [
    {
     "data": {
      "text/plain": [
       "tensor([[ 0.7178, -2.0342, -1.3430,  1.7805],\n",
       "        [ 0.1170,  0.5312, -0.3764,  0.9299],\n",
       "        [ 1.2698, -4.2910,  5.4131,  1.5942]])"
      ]
     },
     "execution_count": 2,
     "metadata": {},
     "output_type": "execute_result"
    }
   ],
   "source": [
    "torch.matmul(torch.cat((X,H),1),torch.cat((W_xh,W_hh),0))"
   ]
  },
  {
   "cell_type": "code",
   "execution_count": null,
   "id": "3adfc537",
   "metadata": {},
   "outputs": [],
   "source": []
  }
 ],
 "metadata": {
  "kernelspec": {
   "display_name": "pytorch",
   "language": "python",
   "name": "pytorch"
  },
  "language_info": {
   "codemirror_mode": {
    "name": "ipython",
    "version": 3
   },
   "file_extension": ".py",
   "mimetype": "text/x-python",
   "name": "python",
   "nbconvert_exporter": "python",
   "pygments_lexer": "ipython3",
   "version": "3.8.16"
  }
 },
 "nbformat": 4,
 "nbformat_minor": 5
}
