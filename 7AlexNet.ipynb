{
 "cells": [
  {
   "cell_type": "code",
   "execution_count": 4,
   "metadata": {},
   "outputs": [],
   "source": [
    "import torch\n",
    "from torch import nn\n",
    "from d2l import torch as d2l\n",
    "\n",
    "net=nn.Sequential(nn.Conv2d(1,96,kernel_size=11,stride=4,padding=1),\n",
    "                  nn.ReLU(),\n",
    "                  nn.MaxPool2d(kernel_size=3,stride=2),\n",
    "                  nn.Conv2d(96,256,kernel_size=5,padding=2),\n",
    "                  nn.ReLU(),\n",
    "                  nn.MaxPool2d(kernel_size=3,stride=2),\n",
    "                  nn.Conv2d(256,384,kernel_size=3,padding=1),\n",
    "                  nn.ReLU(),\n",
    "                  nn.Conv2d(384,384,kernel_size=3,padding=1),\n",
    "                  nn.ReLU(),\n",
    "                  nn.Conv2d(384,256,kernel_size=3,padding=1),\n",
    "                  nn.ReLU(),\n",
    "                  nn.MaxPool2d(kernel_size=3,stride=2),\n",
    "                  nn.Flatten(),\n",
    "                  nn.Linear(6400,4096),   #这里原图像是1*28*28的大小\n",
    "                  nn.ReLU(),\n",
    "                  nn.Dropout(p=0.5),     #这里，全连接层的输出数量是LeNet中的好几倍。使用dropout层来减轻过拟合\n",
    "                  nn.Linear(4096,4096),\n",
    "                  nn.ReLU(),\n",
    "                  nn.Dropout(p=0.5),\n",
    "                  nn.Linear(4096,10))"
   ]
  },
  {
   "cell_type": "code",
   "execution_count": 5,
   "metadata": {},
   "outputs": [
    {
     "name": "stdout",
     "output_type": "stream",
     "text": [
      "Conv2d output shape:\t torch.Size([1, 96, 54, 54])\n",
      "ReLU output shape:\t torch.Size([1, 96, 54, 54])\n",
      "MaxPool2d output shape:\t torch.Size([1, 96, 26, 26])\n",
      "Conv2d output shape:\t torch.Size([1, 256, 26, 26])\n",
      "ReLU output shape:\t torch.Size([1, 256, 26, 26])\n",
      "MaxPool2d output shape:\t torch.Size([1, 256, 12, 12])\n",
      "Conv2d output shape:\t torch.Size([1, 384, 12, 12])\n",
      "ReLU output shape:\t torch.Size([1, 384, 12, 12])\n",
      "Conv2d output shape:\t torch.Size([1, 384, 12, 12])\n",
      "ReLU output shape:\t torch.Size([1, 384, 12, 12])\n",
      "Conv2d output shape:\t torch.Size([1, 256, 12, 12])\n",
      "ReLU output shape:\t torch.Size([1, 256, 12, 12])\n",
      "MaxPool2d output shape:\t torch.Size([1, 256, 5, 5])\n",
      "Flatten output shape:\t torch.Size([1, 6400])\n",
      "Linear output shape:\t torch.Size([1, 4096])\n",
      "ReLU output shape:\t torch.Size([1, 4096])\n",
      "Dropout output shape:\t torch.Size([1, 4096])\n",
      "Linear output shape:\t torch.Size([1, 4096])\n",
      "ReLU output shape:\t torch.Size([1, 4096])\n",
      "Dropout output shape:\t torch.Size([1, 4096])\n",
      "Linear output shape:\t torch.Size([1, 10])\n"
     ]
    }
   ],
   "source": [
    "X=torch.randn(1,1,224,224)\n",
    "for layer in net:\n",
    "    X=layer(X)\n",
    "    print(layer.__class__.__name__,'output shape:\\t',X.shape)"
   ]
  },
  {
   "cell_type": "code",
   "execution_count": 6,
   "metadata": {},
   "outputs": [],
   "source": [
    "batch_size=128\n",
    "train_iter,test_iter=d2l.load_data_fashion_mnist(batch_size,resize=224)"
   ]
  },
  {
   "cell_type": "code",
   "execution_count": 7,
   "metadata": {},
   "outputs": [
    {
     "name": "stdout",
     "output_type": "stream",
     "text": [
      "loss 0.325, train acc 0.881, test acc 0.871\n",
      "1058.5 examples/sec on cuda:0\n"
     ]
    }
   ],
   "source": [
    "lr,num_epochs=0.01,10\n",
    "d2l.train_ch6(net,train_iter,test_iter,num_epochs,lr,d2l.try_gpu())"
   ]
  },
  {
   "cell_type": "code",
   "execution_count": null,
   "metadata": {},
   "outputs": [],
   "source": []
  }
 ],
 "metadata": {
  "kernelspec": {
   "display_name": "Python [conda env:PyTorch]",
   "language": "python",
   "name": "conda-env-PyTorch-py"
  },
  "language_info": {
   "codemirror_mode": {
    "name": "ipython",
    "version": 3
   },
   "file_extension": ".py",
   "mimetype": "text/x-python",
   "name": "python",
   "nbconvert_exporter": "python",
   "pygments_lexer": "ipython3",
   "version": "3.6.7"
  }
 },
 "nbformat": 4,
 "nbformat_minor": 2
}
